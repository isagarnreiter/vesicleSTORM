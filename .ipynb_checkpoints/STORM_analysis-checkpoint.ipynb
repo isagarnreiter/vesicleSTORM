{
 "cells": [
  {
   "cell_type": "code",
   "execution_count": 2,
   "id": "1dcb492d",
   "metadata": {},
   "outputs": [],
   "source": [
    "import numpy as np\n",
    "from numba import njit, prange\n",
    "import csv\n",
    "import os\n",
    "import pandas as pd\n",
    "from glob import glob\n",
    "import time"
   ]
  },
  {
   "cell_type": "code",
   "execution_count": 59,
   "id": "93680770",
   "metadata": {},
   "outputs": [
    {
     "name": "stdout",
     "output_type": "stream",
     "text": [
      "shape (34, 2)\n"
     ]
    }
   ],
   "source": [
    "# Import all files (cell zones) under one experiment name\n",
    "# Imported file names are printed\n",
    "\n",
    "target_marker = 'PSD680'\n",
    "\n",
    "target_directory = '/Volumes/STORM_Nathalie/STORM DeMixing/'\n",
    "list_of_files = np.array([file for file in glob(target_directory + f'*{target_marker}*/*/Demix/*w*.csv')])\n",
    "try:\n",
    "    list_of_files = list_of_files.reshape(int(list_of_files.shape[0]/2),2)\n",
    "except ValueError:\n",
    "    print('Value Error: one channel is missing from one of the cellzones.')\n",
    "\n",
    "print(\"shape\", list_of_files.shape)"
   ]
  },
  {
   "cell_type": "code",
   "execution_count": 40,
   "id": "669c0564",
   "metadata": {},
   "outputs": [],
   "source": [
    "#function calc_distances_squared_two calculates the nearest neighbor from vec2 for the points in vec1\n",
    "\n",
    "@njit(fastmath=True,parallel=True)\n",
    "def calc_distance_squared_two(vec_1,vec_2):\n",
    "\n",
    "    res=np.empty((vec_1.shape[0]),dtype=vec_1.dtype)\n",
    "    for i in prange(vec_1.shape[0]):\n",
    "        res[i] = np.min(np.sqrt((vec_1[i,0]-vec_2[:,0])**2+(vec_1[i,1]-vec_2[:,1])**2+(vec_1[i,2]-vec_2[:,2])**2))\n",
    "        \n",
    "    return res\n"
   ]
  },
  {
   "cell_type": "code",
   "execution_count": 57,
   "id": "1e82c666",
   "metadata": {},
   "outputs": [],
   "source": [
    "# This function \n",
    "# for many cell zones in the experiment and saves them to a new\n",
    "# csv. \n",
    "\n",
    "DEFAULT_OUT_DIR = \"/Users/isabellegarnreiter/Documents/vesicleSTORM/results/Output/\"\n",
    "\n",
    "def analysis(list_of_files_for_analysis):\n",
    "    min_dist_dict = {}\n",
    "    for file_name in list_of_files_for_analysis:\n",
    "        \n",
    "        vesicles = pd.read_csv(file_name[0])[['x [nm]', 'y [nm]', 'z [nm]']].to_numpy(dtype=np.float64)\n",
    "        synapse_marker = pd.read_csv(file_name[1])[['x [nm]', 'y [nm]', 'z [nm]']].to_numpy(dtype=np.float64)\n",
    "\n",
    "        distances = calc_distance_squared_two(vesicles, synapse_marker)\n",
    "\n",
    "        new_file_name = f\"{(file_name[0]).split('/')[4]}_{(file_name[0]).split('/')[5]}\"\n",
    "\n",
    "        min_dist_dict[new_file_name] = distances\n",
    "\n",
    "        print(\"Processed \" + str(new_file_name))\n",
    "        \n",
    "    return min_dist_dict\n"
   ]
  },
  {
   "cell_type": "code",
   "execution_count": 58,
   "id": "6bf9cac9",
   "metadata": {},
   "outputs": [
    {
     "name": "stdout",
     "output_type": "stream",
     "text": [
      "Processed {'210401 DEP647_PSD680 10DIV_CellZone0'}\n",
      "Processed {'210401 DEP647_PSD680 10DIV_CellZone2'}\n",
      "Processed {'210401 DEP647_PSD680 10DIV_CellZone3'}\n",
      "Processed {'210404 SPON647_PSD680 10DIV_CellZone0'}\n",
      "Processed {'210404 SPON647_PSD680 10DIV_CellZone1'}\n",
      "Processed {'210404 SPON647_PSD680 10DIV_CellZone2'}\n",
      "Processed {'210414 DEP647_PSD680 8DIV_CellZone0'}\n",
      "Processed {'210414 DEP647_PSD680 8DIV_CellZone1'}\n",
      "Processed {'210414 DEP647_PSD680 8DIV_CellZone2'}\n",
      "Processed {'210414 DEP647_PSD680 8DIV_CellZone3'}\n",
      "Processed {'210414 DEP647_PSD680 8DIV_CellZone4'}\n",
      "Processed {'210414 DEP647_PSD680 8DIV_unnammed6'}\n",
      "Processed {'210414 SPON647_PSD680 8DIV_CellZone0'}\n",
      "Processed {'210414 SPON647_PSD680 8DIV_CellZone1'}\n",
      "Processed {'210414 SPON647_PSD680 8DIV_CellZone2'}\n",
      "Processed {'210414 SPON647_PSD680 8DIV_CellZone3'}\n",
      "Processed {'210414 SPON647_PSD680 8DIV_CellZone4'}\n",
      "Processed {'210426 DEP647_PSD680 10DIV_CellZone1'}\n",
      "Processed {'210426 DEP647_PSD680 10DIV_CellZone2'}\n",
      "Processed {'210426 DEP647_PSD680 10DIV_CellZone3'}\n",
      "Processed {'210426 DEP647_PSD680 10DIV_CellZone4'}\n",
      "Processed {'210426 DEP647_PSD680 10DIV_CellZone5'}\n",
      "Processed {'210426 DEP647_PSD680 10DIV_CellZone6'}\n",
      "Processed {'210426 DEP647_PSD680 10DIV_CellZone8'}\n",
      "Processed {'210430 SPON647_PSD680 10DIV_CellZone1'}\n",
      "Processed {'210430 SPON647_PSD680 10DIV_CellZone10'}\n",
      "Processed {'210430 SPON647_PSD680 10DIV_CellZone2'}\n",
      "Processed {'210430 SPON647_PSD680 10DIV_CellZone3'}\n",
      "Processed {'210430 SPON647_PSD680 10DIV_CellZone4'}\n",
      "Processed {'210430 SPON647_PSD680 10DIV_CellZone5'}\n",
      "Processed {'210430 SPON647_PSD680 10DIV_CellZone6'}\n",
      "Processed {'210430 SPON647_PSD680 10DIV_CellZone7'}\n",
      "Processed {'210430 SPON647_PSD680 10DIV_CellZone8'}\n",
      "Processed {'210430 SPON647_PSD680 10DIV_CellZone9'}\n"
     ]
    }
   ],
   "source": [
    "list_of_sample_min_dists = analysis(list_of_files)\n"
   ]
  },
  {
   "cell_type": "code",
   "execution_count": 61,
   "id": "e11226f9",
   "metadata": {},
   "outputs": [],
   "source": [
    "splits = (list_of_files[0][0]).split('/')"
   ]
  },
  {
   "cell_type": "code",
   "execution_count": 62,
   "id": "3742a327",
   "metadata": {},
   "outputs": [
    {
     "data": {
      "text/plain": [
       "['',\n",
       " 'Volumes',\n",
       " 'STORM_Nathalie',\n",
       " 'STORM DeMixing',\n",
       " '210401 DEP647_PSD680 10DIV',\n",
       " 'CellZone0',\n",
       " 'Demix',\n",
       " 'CoordTable_SAFE360_MULTIPLEXING_demixed_w1_UncertaintyFiltered.csv']"
      ]
     },
     "execution_count": 62,
     "metadata": {},
     "output_type": "execute_result"
    }
   ],
   "source": [
    "splits\n"
   ]
  },
  {
   "cell_type": "code",
   "execution_count": 65,
   "id": "9c122ae1",
   "metadata": {},
   "outputs": [
    {
     "ename": "TypeError",
     "evalue": "float() argument must be a string or a number, not 'list'",
     "output_type": "error",
     "traceback": [
      "\u001b[0;31m---------------------------------------------------------------------------\u001b[0m",
      "\u001b[0;31mTypeError\u001b[0m                                 Traceback (most recent call last)",
      "\u001b[0;32m/var/folders/sc/r8qs9r7d09g51sk2dr10p4j40000gn/T/ipykernel_62887/3204147383.py\u001b[0m in \u001b[0;36m<module>\u001b[0;34m\u001b[0m\n\u001b[0;32m----> 1\u001b[0;31m \u001b[0mfloat\u001b[0m\u001b[0;34m(\u001b[0m\u001b[0msplits\u001b[0m\u001b[0;34m[\u001b[0m\u001b[0;36m4\u001b[0m\u001b[0;34m:\u001b[0m\u001b[0;36m5\u001b[0m\u001b[0;34m]\u001b[0m\u001b[0;34m)\u001b[0m\u001b[0;34m\u001b[0m\u001b[0;34m\u001b[0m\u001b[0m\n\u001b[0m",
      "\u001b[0;31mTypeError\u001b[0m: float() argument must be a string or a number, not 'list'"
     ]
    }
   ],
   "source": []
  },
  {
   "cell_type": "code",
   "execution_count": null,
   "id": "26d5132b",
   "metadata": {},
   "outputs": [],
   "source": []
  }
 ],
 "metadata": {
  "kernelspec": {
   "display_name": "Python 3 (ipykernel)",
   "language": "python",
   "name": "python3"
  },
  "language_info": {
   "codemirror_mode": {
    "name": "ipython",
    "version": 3
   },
   "file_extension": ".py",
   "mimetype": "text/x-python",
   "name": "python",
   "nbconvert_exporter": "python",
   "pygments_lexer": "ipython3",
   "version": "3.9.12"
  }
 },
 "nbformat": 4,
 "nbformat_minor": 5
}
