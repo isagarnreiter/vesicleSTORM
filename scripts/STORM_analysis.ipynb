{
 "cells": [
  {
   "cell_type": "code",
   "execution_count": null,
   "id": "b7881450",
   "metadata": {},
   "outputs": [],
   "source": [
    "import numpy as np\n",
    "from numba import njit, prange\n",
    "import csv\n",
    "import os\n",
    "import pandas as pd\n",
    "from glob import glob\n",
    "import time"
   ]
  },
  {
   "cell_type": "code",
   "execution_count": null,
   "id": "0e613842",
   "metadata": {},
   "outputs": [],
   "source": [
    "# Import all files (cell zones) under one experiment name\n",
    "# Imported file names are printed\n",
    "\n",
    "target_directory = '/Volumes/STORM_Nathalie/STORM DeMixing/210415 DEP647_VAMP2 8DIV/'\n",
    "list_of_files_for_analysis = [file for file in glob(target_directory + '*/Demix/*.csv')]\n",
    "#print(*list_of_files_for_analysis, sep=\"\\n\")"
   ]
  },
  {
   "cell_type": "code",
   "execution_count": null,
   "id": "7a975429",
   "metadata": {},
   "outputs": [],
   "source": [
    "#function calc_distances_squared_two calculates the closest point from vec_2 to vec_1 in 3D space.\n",
    "\n",
    "@njit(fastmath=True,parallel=True)\n",
    "def calc_distance_squared_two(vec_1,vec_2):\n",
    "\n",
    "    res=np.empty((vec_1.shape[0]),dtype=vec_1.dtype)\n",
    "    for i in prange(vec_1.shape[0]):\n",
    "        res[i] = np.min(np.sqrt((vec_1[i,0]-vec_2[:,0])**2+(vec_1[i,1]-vec_2[:,1])**2+(vec_1[i,2]-vec_2[:,2])**2))\n",
    "        \n",
    "    return res\n"
   ]
  },
  {
   "cell_type": "code",
   "execution_count": null,
   "id": "a17a0eee",
   "metadata": {},
   "outputs": [],
   "source": [
    "# This function calculates the minimum nearest neighbour distances\n",
    "# for many cell zones in the experiment and saves them to a new\n",
    "# csv. \n",
    "\n",
    "DEFAULT_OUT_DIR = \"/Users/isabellegarnreiter/Documents/vesicleSTORM/results/Output/\"\n",
    "\n",
    "def analysis(list_of_files_for_analysis, save=True):\n",
    "    Min_dist_dict = {}\n",
    "    for count, file_name in enumerate(list_of_files_for_analysis):\n",
    "        if '_w2_' in file_name:\n",
    "            print(\"pass\")\n",
    "        else:\n",
    "            vesicles = pd.read_csv(file_name)\n",
    "            synapse = pd.read_csv(list_of_files_for_analysis[count+1])\n",
    "            \n",
    "            vesicles = file_1[['x [nm]', 'y [nm]', 'z [nm]']].to_numpy(dtype=np.float64)\n",
    "            synapse_marker = file_2[['x [nm]', 'y [nm]', 'z [nm]']].to_numpy(dtype=np.float64)\n",
    "            distances = calc_distance_squared_two(vesicles, synapse_marker)\n",
    "            \n",
    "            if __name__ == '__main__':\n",
    "                assert distances[0] = np.min(np.sqrt((vesicles[0,0]-synapse_marker[:,0])**2+\n",
    "                                                     (vesicles[0,1]-synapse_marker[:,1])**2+\n",
    "                                                     (vesicles[0,2]-synapse_marker[:,2])**2))\n",
    "            \n",
    "            splits = (file_name).split('/')\n",
    "            new_file_name = \"{splits[4]}_{splits[5]}\"\n",
    "            \n",
    "            Min_dist_dict[new_file_name] = distances\n",
    "            \n",
    "            \n",
    "            \n",
    "            if save==True\n",
    "                file_1['min dist (um)'] = distances\n",
    "                file_1.to_csv(os.path.join(out_directory, f\"{new_file_name}.csv\"))\n",
    "            \n",
    "            print(\"Processed \" + str(new_file_name(file_name)))\n",
    "            "
   ]
  },
  {
   "cell_type": "code",
   "execution_count": null,
   "id": "308e493e",
   "metadata": {},
   "outputs": [],
   "source": [
    "list_of_sample_min_dists = analysis(list_of_files_for_analysis[1:3], save==False)\n"
   ]
  },
  {
   "cell_type": "code",
   "execution_count": null,
   "id": "831fa599",
   "metadata": {},
   "outputs": [],
   "source": []
  }
 ],
 "metadata": {
  "kernelspec": {
   "display_name": "Python 3 (ipykernel)",
   "language": "python",
   "name": "python3"
  },
  "language_info": {
   "codemirror_mode": {
    "name": "ipython",
    "version": 3
   },
   "file_extension": ".py",
   "mimetype": "text/x-python",
   "name": "python",
   "nbconvert_exporter": "python",
   "pygments_lexer": "ipython3",
   "version": "3.9.12"
  }
 },
 "nbformat": 4,
 "nbformat_minor": 5
}
